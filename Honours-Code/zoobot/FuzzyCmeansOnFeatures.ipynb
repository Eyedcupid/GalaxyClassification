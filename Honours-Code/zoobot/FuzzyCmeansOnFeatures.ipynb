{
 "cells": [
  {
   "cell_type": "code",
   "execution_count": null,
   "id": "25d1f675-29d0-46a4-a68d-4c217b08eb0e",
   "metadata": {},
   "outputs": [],
   "source": [
    "!pip install -U scikit-fuzzy"
   ]
  },
  {
   "cell_type": "code",
   "execution_count": 1,
   "id": "cf0e051b-dddd-496d-8a53-0824f0a83c09",
   "metadata": {},
   "outputs": [
    {
     "name": "stdout",
     "output_type": "stream",
     "text": [
      "Python 3.6.8 :: Anaconda, Inc.\n"
     ]
    }
   ],
   "source": [
    "!python --version"
   ]
  },
  {
   "cell_type": "code",
   "execution_count": null,
   "id": "8cba9bb1-1cf2-49ad-a58a-3c37199d7df8",
   "metadata": {},
   "outputs": [],
   "source": [
    "import pandas as pd\n",
    "import numpy as np\n",
    "from zoobot import label_metadata, schemas\n",
    "from sklearn.metrics import confusion_matrix, precision_recall_fscore_support\n",
    "from scipy.optimize import linear_sum_assignment as linear_assignment\n",
    "import skfuzzy"
   ]
  },
  {
   "cell_type": "code",
   "execution_count": 16,
   "id": "5c17204a-46fa-4eac-9422-d43303c32cae",
   "metadata": {},
   "outputs": [],
   "source": [
    "def findChoice(frac):\n",
    "    choice = np.zeros_like(frac)\n",
    "    choice[np.arange(len(frac)), frac.argmax(1)] = 1\n",
    "    return choice\n",
    "\n",
    "def getQuestionClasses(auto_f, volunteers, question):\n",
    "    qcol_name = question.text+'_total-votes'\n",
    "    fcol_names = [(cols.text+'_fraction') for cols in question.answers]\n",
    "    anscol_names = [cols.text for cols in question.answers]\n",
    "    valid_feats = []\n",
    "    \n",
    "    valid_vol = volunteers.query('`{}`/`smooth-or-featured_total-votes` >= 0.5'.format(qcol_name))\n",
    "    valid_idx = valid_vol.index.tolist()\n",
    "    vol_results = valid_vol[fcol_names].values\n",
    "    \n",
    "    auto_values = auto_f.values\n",
    "    \n",
    "    for i in valid_idx:\n",
    "        valid_feats.append(auto_values[i])\n",
    "        \n",
    "    rounded_vol_results = findChoice(np.asarray(vol_results))\n",
    "    support = len(rounded_vol_results)\n",
    "    \n",
    "    _,u,_,_,_,_,_ = skfuzzy.cmeans(np.transpose(valid_feats), c=3, m=2, error=1e-4, maxiter=300,seed=None)\n",
    "    pred_results = np.argmax(u, axis=0)\n",
    "    \n",
    "    vol_classes = np.argmax(rounded_vol_results, axis=1)\n",
    "    \n",
    "    return valid_idx, support, anscol_names, np.array(pred_results), np.array(vol_classes)"
   ]
  },
  {
   "cell_type": "code",
   "execution_count": 3,
   "id": "73a07d9b-1126-4d2b-a4d2-cc960b322436",
   "metadata": {},
   "outputs": [],
   "source": [
    "def makeComp(pred, vol, i, numLabels):\n",
    "    compAll = []\n",
    "    for j in range(numLabels):\n",
    "        vol_where = np.where(vol==j)\n",
    "        pred_where = np.where(pred==i)\n",
    "        comp = np.intersect1d(vol_where[0], pred_where[0])\n",
    "        compAll.append(len(comp)/len(vol_where[0]))\n",
    "    return compAll\n",
    "\n",
    "def _make_cost_m(cm):\n",
    "    s = np.max(cm)\n",
    "    return (- cm + s)\n",
    "\n",
    "def labelMap(vol, pred):\n",
    "    cm = confusion_matrix(vol, pred)\n",
    "    indexes = linear_assignment(_make_cost_m(cm))\n",
    "    indexes = np.asarray(indexes)\n",
    "    return indexes[1]\n",
    "    \n",
    "def convertLabels(lmap, pred):\n",
    "    conv_preds = []\n",
    "    for i in range(len(pred)):\n",
    "        conv_preds.append(lmap[pred[i]])\n",
    "    return np.array(conv_preds)"
   ]
  },
  {
   "cell_type": "code",
   "execution_count": 4,
   "id": "a7294b6c-e36f-4eee-9b27-f87b44ad18e6",
   "metadata": {},
   "outputs": [],
   "source": [
    "auto_features = pd.read_csv(\"../autoencoder/extracted_features.csv\")"
   ]
  },
  {
   "cell_type": "code",
   "execution_count": 5,
   "id": "1c1a71f7-8298-44e5-97d6-703a6787a3f6",
   "metadata": {},
   "outputs": [],
   "source": [
    "auto_features = auto_features.drop('file_loc',axis=1)"
   ]
  },
  {
   "cell_type": "code",
   "execution_count": 6,
   "id": "c67e9614-d607-4601-98d3-e311f7df1fdf",
   "metadata": {},
   "outputs": [
    {
     "name": "stdout",
     "output_type": "stream",
     "text": [
      "{smooth-or-featured, indices 0 to 2, asked after None: (0, 2), disk-edge-on, indices 3 to 4, asked after smooth-or-featured_featured-or-disk, index 1: (3, 4), has-spiral-arms, indices 5 to 6, asked after disk-edge-on_no, index 4: (5, 6), bar, indices 7 to 9, asked after disk-edge-on_no, index 4: (7, 9), bulge-size, indices 10 to 14, asked after disk-edge-on_no, index 4: (10, 14), how-rounded, indices 15 to 17, asked after smooth-or-featured_smooth, index 0: (15, 17), edge-on-bulge, indices 18 to 20, asked after disk-edge-on_yes, index 3: (18, 20), spiral-winding, indices 21 to 23, asked after has-spiral-arms_yes, index 5: (21, 23), spiral-arm-count, indices 24 to 29, asked after has-spiral-arms_yes, index 5: (24, 29), merging, indices 30 to 33, asked after None: (30, 33)}\n"
     ]
    }
   ],
   "source": [
    "decals_test = pd.read_csv('../Ilifu_data/decals_ilifu_test.csv')\n",
    "schema = schemas.Schema(label_metadata.decals_pairs, label_metadata.get_gz2_and_decals_dependencies(label_metadata.decals_pairs))"
   ]
  },
  {
   "cell_type": "code",
   "execution_count": 17,
   "id": "cb84c494-065b-4a7a-836d-f29c553282ad",
   "metadata": {},
   "outputs": [
    {
     "name": "stderr",
     "output_type": "stream",
     "text": [
      "/usr/local/lib/python3.8/dist-packages/sklearn/metrics/_classification.py:1248: UndefinedMetricWarning: Precision and F-score are ill-defined and being set to 0.0 in labels with no predicted samples. Use `zero_division` parameter to control this behavior.\n",
      "  _warn_prf(average, modifier, msg_start, len(result))\n",
      "/usr/local/lib/python3.8/dist-packages/sklearn/metrics/_classification.py:1248: UndefinedMetricWarning: Precision and F-score are ill-defined and being set to 0.0 in labels with no predicted samples. Use `zero_division` parameter to control this behavior.\n",
      "  _warn_prf(average, modifier, msg_start, len(result))\n",
      "/usr/local/lib/python3.8/dist-packages/sklearn/metrics/_classification.py:1248: UndefinedMetricWarning: Precision and F-score are ill-defined and being set to 0.0 in labels with no predicted samples. Use `zero_division` parameter to control this behavior.\n",
      "  _warn_prf(average, modifier, msg_start, len(result))\n",
      "/usr/local/lib/python3.8/dist-packages/sklearn/metrics/_classification.py:1248: UndefinedMetricWarning: Precision and F-score are ill-defined and being set to 0.0 in labels with no predicted samples. Use `zero_division` parameter to control this behavior.\n",
      "  _warn_prf(average, modifier, msg_start, len(result))\n",
      "/usr/local/lib/python3.8/dist-packages/sklearn/metrics/_classification.py:1248: UndefinedMetricWarning: Precision and F-score are ill-defined and being set to 0.0 in labels with no predicted samples. Use `zero_division` parameter to control this behavior.\n",
      "  _warn_prf(average, modifier, msg_start, len(result))\n",
      "/usr/local/lib/python3.8/dist-packages/sklearn/metrics/_classification.py:1248: UndefinedMetricWarning: Precision and F-score are ill-defined and being set to 0.0 in labels with no predicted samples. Use `zero_division` parameter to control this behavior.\n",
      "  _warn_prf(average, modifier, msg_start, len(result))\n"
     ]
    }
   ],
   "source": [
    "total_report = {}\n",
    "for question in label_metadata.decals_pairs:\n",
    "    idxs, support, anscols, valid_preds, valid_vol = getQuestionClasses(auto_features, decals_test, schema.get_question(question))\n",
    "    lmap = labelMap(valid_vol, valid_preds)\n",
    "    conv_preds = convertLabels(lmap, valid_preds)\n",
    "    question_report = precision_recall_fscore_support(y_pred=conv_preds, y_true=valid_vol, average='weighted')\n",
    "    total_report[question] = {\n",
    "        'precision': question_report[0],\n",
    "        'recall': question_report[1],\n",
    "        'f1': question_report[2],\n",
    "        'support': support\n",
    "    }"
   ]
  },
  {
   "cell_type": "code",
   "execution_count": 18,
   "id": "f78453a1-fa75-4aa5-9ecc-6b6eed3d93ad",
   "metadata": {},
   "outputs": [
    {
     "data": {
      "text/html": [
       "<div>\n",
       "<style scoped>\n",
       "    .dataframe tbody tr th:only-of-type {\n",
       "        vertical-align: middle;\n",
       "    }\n",
       "\n",
       "    .dataframe tbody tr th {\n",
       "        vertical-align: top;\n",
       "    }\n",
       "\n",
       "    .dataframe thead th {\n",
       "        text-align: right;\n",
       "    }\n",
       "</style>\n",
       "<table border=\"1\" class=\"dataframe\">\n",
       "  <thead>\n",
       "    <tr style=\"text-align: right;\">\n",
       "      <th></th>\n",
       "      <th>precision</th>\n",
       "      <th>recall</th>\n",
       "      <th>f1</th>\n",
       "      <th>support</th>\n",
       "    </tr>\n",
       "  </thead>\n",
       "  <tbody>\n",
       "    <tr>\n",
       "      <th>smooth-or-featured</th>\n",
       "      <td>0.348344</td>\n",
       "      <td>0.110483</td>\n",
       "      <td>0.084641</td>\n",
       "      <td>49917</td>\n",
       "    </tr>\n",
       "    <tr>\n",
       "      <th>disk-edge-on</th>\n",
       "      <td>0.710671</td>\n",
       "      <td>0.504176</td>\n",
       "      <td>0.544913</td>\n",
       "      <td>15445</td>\n",
       "    </tr>\n",
       "    <tr>\n",
       "      <th>has-spiral-arms</th>\n",
       "      <td>0.713710</td>\n",
       "      <td>0.573550</td>\n",
       "      <td>0.617568</td>\n",
       "      <td>11380</td>\n",
       "    </tr>\n",
       "    <tr>\n",
       "      <th>bar</th>\n",
       "      <td>0.425038</td>\n",
       "      <td>0.453691</td>\n",
       "      <td>0.434058</td>\n",
       "      <td>11380</td>\n",
       "    </tr>\n",
       "    <tr>\n",
       "      <th>bulge-size</th>\n",
       "      <td>0.270337</td>\n",
       "      <td>0.316608</td>\n",
       "      <td>0.291090</td>\n",
       "      <td>11380</td>\n",
       "    </tr>\n",
       "    <tr>\n",
       "      <th>how-rounded</th>\n",
       "      <td>0.461095</td>\n",
       "      <td>0.440263</td>\n",
       "      <td>0.449872</td>\n",
       "      <td>32526</td>\n",
       "    </tr>\n",
       "    <tr>\n",
       "      <th>edge-on-bulge</th>\n",
       "      <td>0.677051</td>\n",
       "      <td>0.575758</td>\n",
       "      <td>0.575119</td>\n",
       "      <td>2475</td>\n",
       "    </tr>\n",
       "    <tr>\n",
       "      <th>spiral-winding</th>\n",
       "      <td>0.397989</td>\n",
       "      <td>0.443926</td>\n",
       "      <td>0.417089</td>\n",
       "      <td>7499</td>\n",
       "    </tr>\n",
       "    <tr>\n",
       "      <th>spiral-arm-count</th>\n",
       "      <td>0.383374</td>\n",
       "      <td>0.349113</td>\n",
       "      <td>0.359439</td>\n",
       "      <td>7499</td>\n",
       "    </tr>\n",
       "    <tr>\n",
       "      <th>merging</th>\n",
       "      <td>0.741674</td>\n",
       "      <td>0.522468</td>\n",
       "      <td>0.607943</td>\n",
       "      <td>49247</td>\n",
       "    </tr>\n",
       "  </tbody>\n",
       "</table>\n",
       "</div>"
      ],
      "text/plain": [
       "                    precision    recall        f1  support\n",
       "smooth-or-featured   0.348344  0.110483  0.084641    49917\n",
       "disk-edge-on         0.710671  0.504176  0.544913    15445\n",
       "has-spiral-arms      0.713710  0.573550  0.617568    11380\n",
       "bar                  0.425038  0.453691  0.434058    11380\n",
       "bulge-size           0.270337  0.316608  0.291090    11380\n",
       "how-rounded          0.461095  0.440263  0.449872    32526\n",
       "edge-on-bulge        0.677051  0.575758  0.575119     2475\n",
       "spiral-winding       0.397989  0.443926  0.417089     7499\n",
       "spiral-arm-count     0.383374  0.349113  0.359439     7499\n",
       "merging              0.741674  0.522468  0.607943    49247"
      ]
     },
     "execution_count": 18,
     "metadata": {},
     "output_type": "execute_result"
    }
   ],
   "source": [
    "report_df = pd.DataFrame.from_dict(total_report, orient='index')\n",
    "report_df"
   ]
  },
  {
   "cell_type": "code",
   "execution_count": null,
   "id": "06270570-fbc2-4898-a499-b7744ebc0e8c",
   "metadata": {},
   "outputs": [],
   "source": []
  }
 ],
 "metadata": {
  "kernelspec": {
   "display_name": "ASTRO-GPU",
   "language": "python",
   "name": "astro-gpu"
  },
  "language_info": {
   "codemirror_mode": {
    "name": "ipython",
    "version": 3
   },
   "file_extension": ".py",
   "mimetype": "text/x-python",
   "name": "python",
   "nbconvert_exporter": "python",
   "pygments_lexer": "ipython3",
   "version": "3.8.5"
  }
 },
 "nbformat": 4,
 "nbformat_minor": 5
}
