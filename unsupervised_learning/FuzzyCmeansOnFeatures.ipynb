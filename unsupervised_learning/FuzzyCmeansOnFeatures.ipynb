{
 "cells": [
  {
   "cell_type": "code",
   "execution_count": 5,
   "id": "8cba9bb1-1cf2-49ad-a58a-3c37199d7df8",
   "metadata": {},
   "outputs": [],
   "source": [
    "import pandas as pd\n",
    "import numpy as np\n",
    "import sys\n",
    "sys.path.append(\"C:/Users/mattj/zoobot\")\n",
    "\n",
    "from zoobot import label_metadata, schemas\n",
    "from sklearn.metrics import confusion_matrix, precision_recall_fscore_support\n",
    "from scipy.optimize import linear_sum_assignment as linear_assignment\n",
    "import skfuzzy\n",
    "import time"
   ]
  },
  {
   "cell_type": "code",
   "execution_count": 6,
   "id": "5c17204a-46fa-4eac-9422-d43303c32cae",
   "metadata": {},
   "outputs": [],
   "source": [
    "def findChoice(frac):\n",
    "    choice = np.zeros_like(frac)\n",
    "    choice[np.arange(len(frac)), frac.argmax(1)] = 1\n",
    "    return choice\n",
    "\n",
    "def getQuestionClasses(auto_f, volunteers, question):\n",
    "    qcol_name = question.text+'_total-votes'\n",
    "    fcol_names = [(cols.text+'_fraction') for cols in question.answers]\n",
    "    anscol_names = [cols.text for cols in question.answers]\n",
    "    \n",
    "    valid_vol = volunteers.query('`{}`/`smooth-or-featured_total-votes` >= 0.5'.format(qcol_name))\n",
    "    valid_idx = valid_vol.index.tolist()\n",
    "    vol_results = valid_vol[fcol_names].values\n",
    "    \n",
    "    auto_values = auto_f.values\n",
    "    \n",
    "    valid_feats = auto_values[valid_idx]\n",
    "        \n",
    "    rounded_vol_results = findChoice(np.asarray(vol_results))\n",
    "    support = len(rounded_vol_results)\n",
    "    \n",
    "    _,u,_,_,_,_,_ = skfuzzy.cmeans(np.transpose(valid_feats), c=len(fcol_names), m=2, error=1e-9, maxiter=300)\n",
    "    pred_results = np.argmax(u, axis=0)\n",
    "\n",
    "    vol_classes = np.argmax(rounded_vol_results, axis=1)\n",
    "    \n",
    "    return valid_idx, support, anscol_names, np.array(pred_results), np.array(vol_classes)"
   ]
  },
  {
   "cell_type": "code",
   "execution_count": 7,
   "id": "73a07d9b-1126-4d2b-a4d2-cc960b322436",
   "metadata": {},
   "outputs": [],
   "source": [
    "def _make_cost_m(cm):\n",
    "    s = np.max(cm)\n",
    "    return (- cm + s)\n",
    "\n",
    "def labelMap(vol, pred):\n",
    "    cm = confusion_matrix(vol, pred)\n",
    "    indexes = linear_assignment(_make_cost_m(cm))\n",
    "    indexes = np.asarray(indexes)\n",
    "    return indexes[1]\n",
    "    \n",
    "def convertLabels(lmap, pred):\n",
    "    conv_preds = np.zeros(len(pred), dtype=int)\n",
    "    for i in range(len(pred)):\n",
    "        conv_preds[i] = lmap[pred[i]]\n",
    "    return np.array(conv_preds)"
   ]
  },
  {
   "cell_type": "code",
   "execution_count": 8,
   "id": "a7294b6c-e36f-4eee-9b27-f87b44ad18e6",
   "metadata": {},
   "outputs": [],
   "source": [
    "auto_features = pd.read_csv(\"../autoencoder/extracted_features.csv\")"
   ]
  },
  {
   "cell_type": "code",
   "execution_count": 9,
   "id": "1c1a71f7-8298-44e5-97d6-703a6787a3f6",
   "metadata": {},
   "outputs": [],
   "source": [
    "auto_features = auto_features.drop('file_loc',axis=1)"
   ]
  },
  {
   "cell_type": "code",
   "execution_count": 10,
   "id": "c67e9614-d607-4601-98d3-e311f7df1fdf",
   "metadata": {},
   "outputs": [
    {
     "name": "stdout",
     "output_type": "stream",
     "text": [
      "{smooth-or-featured, indices 0 to 2, asked after None: (0, 2), disk-edge-on, indices 3 to 4, asked after smooth-or-featured_featured-or-disk, index 1: (3, 4), has-spiral-arms, indices 5 to 6, asked after disk-edge-on_no, index 4: (5, 6), bar, indices 7 to 9, asked after disk-edge-on_no, index 4: (7, 9), bulge-size, indices 10 to 14, asked after disk-edge-on_no, index 4: (10, 14), how-rounded, indices 15 to 17, asked after smooth-or-featured_smooth, index 0: (15, 17), edge-on-bulge, indices 18 to 20, asked after disk-edge-on_yes, index 3: (18, 20), spiral-winding, indices 21 to 23, asked after has-spiral-arms_yes, index 5: (21, 23), spiral-arm-count, indices 24 to 29, asked after has-spiral-arms_yes, index 5: (24, 29), merging, indices 30 to 33, asked after None: (30, 33)}\n"
     ]
    }
   ],
   "source": [
    "decals_test = pd.read_csv('D:/Ilifu_data/decals_ilifu_test.csv')\n",
    "schema = schemas.Schema(label_metadata.decals_pairs, label_metadata.get_gz2_and_decals_dependencies(label_metadata.decals_pairs))"
   ]
  },
  {
   "cell_type": "code",
   "execution_count": 11,
   "id": "06270570-fbc2-4898-a499-b7744ebc0e8c",
   "metadata": {},
   "outputs": [
    {
     "name": "stdout",
     "output_type": "stream",
     "text": [
      "Starting Clustering for  smooth-or-featured\n",
      "Question:  smooth-or-featured  Completed  1  times and avearged.\n",
      "--------------------------------------------------------------\n",
      "Starting Clustering for  disk-edge-on\n",
      "Question:  disk-edge-on  Completed  1  times and avearged.\n",
      "--------------------------------------------------------------\n",
      "Starting Clustering for  has-spiral-arms\n",
      "Question:  has-spiral-arms  Completed  1  times and avearged.\n",
      "--------------------------------------------------------------\n",
      "Starting Clustering for  bar\n",
      "Question:  bar  Completed  1  times and avearged.\n",
      "--------------------------------------------------------------\n",
      "Starting Clustering for  bulge-size\n",
      "Question:  bulge-size  Completed  1  times and avearged.\n",
      "--------------------------------------------------------------\n",
      "Starting Clustering for  how-rounded\n",
      "Question:  how-rounded  Completed  1  times and avearged.\n",
      "--------------------------------------------------------------\n",
      "Starting Clustering for  edge-on-bulge\n"
     ]
    },
    {
     "name": "stderr",
     "output_type": "stream",
     "text": [
      "D:\\miniconda3\\envs\\tf\\lib\\site-packages\\sklearn\\metrics\\_classification.py:1344: UndefinedMetricWarning: Precision and F-score are ill-defined and being set to 0.0 in labels with no predicted samples. Use `zero_division` parameter to control this behavior.\n",
      "  _warn_prf(average, modifier, msg_start, len(result))\n"
     ]
    },
    {
     "name": "stdout",
     "output_type": "stream",
     "text": [
      "Question:  edge-on-bulge  Completed  1  times and avearged.\n",
      "--------------------------------------------------------------\n",
      "Starting Clustering for  spiral-winding\n",
      "Question:  spiral-winding  Completed  1  times and avearged.\n",
      "--------------------------------------------------------------\n",
      "Starting Clustering for  spiral-arm-count\n",
      "Question:  spiral-arm-count  Completed  1  times and avearged.\n",
      "--------------------------------------------------------------\n",
      "Starting Clustering for  merging\n",
      "Question:  merging  Completed  1  times and avearged.\n",
      "--------------------------------------------------------------\n"
     ]
    },
    {
     "name": "stderr",
     "output_type": "stream",
     "text": [
      "D:\\miniconda3\\envs\\tf\\lib\\site-packages\\sklearn\\metrics\\_classification.py:1344: UndefinedMetricWarning: Precision and F-score are ill-defined and being set to 0.0 in labels with no predicted samples. Use `zero_division` parameter to control this behavior.\n",
      "  _warn_prf(average, modifier, msg_start, len(result))\n"
     ]
    }
   ],
   "source": [
    "total_report = {}\n",
    "# seeds = [6589,4598,2489,9434,7984,1238,6468,5165,3246,8646]\n",
    "seeds = 1\n",
    "total_time = {}\n",
    "for question in label_metadata.decals_pairs:\n",
    "        total_report[question] = {\n",
    "            'precision': 0,\n",
    "            'recall': 0,\n",
    "            'f1': 0,\n",
    "            'support': 0\n",
    "        }\n",
    "for question in label_metadata.decals_pairs:\n",
    "    total_time[question] = {}\n",
    "    print('Starting Clustering for ',question)\n",
    "    start = time.time()\n",
    "    for seed in range(seeds):\n",
    "        idxs, support, anscols, valid_preds, valid_vol = getQuestionClasses(auto_features, decals_test, schema.get_question(question))\n",
    "        lmap = labelMap(valid_vol, valid_preds)\n",
    "        conv_preds = convertLabels(lmap, valid_preds)\n",
    "        question_report = precision_recall_fscore_support(y_pred=conv_preds, y_true=valid_vol, average='weighted')\n",
    "        total_report[question]['precision'] += question_report[0]\n",
    "        total_report[question]['recall'] += question_report[1]\n",
    "        total_report[question]['f1'] += question_report[2]\n",
    "    end = time.time()\n",
    "    total_report[question]['support'] = support\n",
    "    total_report[question]['precision'] /= seeds\n",
    "    total_report[question]['recall'] /= seeds\n",
    "    total_report[question]['f1'] /= seeds\n",
    "    total_time[question]['total'] = end - start\n",
    "    total_time[question]['avg'] = total_time[question]['total']/seeds\n",
    "    print('Question: ',question,' Completed ', seeds, ' times and avearged.')\n",
    "    print('--------------------------------------------------------------')\n"
   ]
  },
  {
   "cell_type": "code",
   "execution_count": 12,
   "id": "69422c55",
   "metadata": {},
   "outputs": [],
   "source": [
    "report_df = pd.DataFrame.from_dict(total_report, orient='index')\n",
    "time_df = pd.DataFrame.from_dict(total_time, orient='index')"
   ]
  },
  {
   "cell_type": "code",
   "execution_count": 13,
   "id": "352a489b",
   "metadata": {},
   "outputs": [
    {
     "data": {
      "text/html": [
       "<div>\n",
       "<style scoped>\n",
       "    .dataframe tbody tr th:only-of-type {\n",
       "        vertical-align: middle;\n",
       "    }\n",
       "\n",
       "    .dataframe tbody tr th {\n",
       "        vertical-align: top;\n",
       "    }\n",
       "\n",
       "    .dataframe thead th {\n",
       "        text-align: right;\n",
       "    }\n",
       "</style>\n",
       "<table border=\"1\" class=\"dataframe\">\n",
       "  <thead>\n",
       "    <tr style=\"text-align: right;\">\n",
       "      <th></th>\n",
       "      <th>precision</th>\n",
       "      <th>recall</th>\n",
       "      <th>f1</th>\n",
       "      <th>support</th>\n",
       "    </tr>\n",
       "  </thead>\n",
       "  <tbody>\n",
       "    <tr>\n",
       "      <th>smooth-or-featured</th>\n",
       "      <td>0.558775</td>\n",
       "      <td>0.525933</td>\n",
       "      <td>0.537451</td>\n",
       "      <td>49917</td>\n",
       "    </tr>\n",
       "    <tr>\n",
       "      <th>disk-edge-on</th>\n",
       "      <td>0.663747</td>\n",
       "      <td>0.554687</td>\n",
       "      <td>0.592729</td>\n",
       "      <td>15351</td>\n",
       "    </tr>\n",
       "    <tr>\n",
       "      <th>has-spiral-arms</th>\n",
       "      <td>0.683657</td>\n",
       "      <td>0.552646</td>\n",
       "      <td>0.598381</td>\n",
       "      <td>11340</td>\n",
       "    </tr>\n",
       "    <tr>\n",
       "      <th>bar</th>\n",
       "      <td>0.414554</td>\n",
       "      <td>0.333951</td>\n",
       "      <td>0.325809</td>\n",
       "      <td>11340</td>\n",
       "    </tr>\n",
       "    <tr>\n",
       "      <th>bulge-size</th>\n",
       "      <td>0.206103</td>\n",
       "      <td>0.037302</td>\n",
       "      <td>0.006379</td>\n",
       "      <td>11340</td>\n",
       "    </tr>\n",
       "    <tr>\n",
       "      <th>how-rounded</th>\n",
       "      <td>0.521948</td>\n",
       "      <td>0.447168</td>\n",
       "      <td>0.415513</td>\n",
       "      <td>32641</td>\n",
       "    </tr>\n",
       "    <tr>\n",
       "      <th>edge-on-bulge</th>\n",
       "      <td>0.059529</td>\n",
       "      <td>0.165383</td>\n",
       "      <td>0.086625</td>\n",
       "      <td>2467</td>\n",
       "    </tr>\n",
       "    <tr>\n",
       "      <th>spiral-winding</th>\n",
       "      <td>0.663658</td>\n",
       "      <td>0.242234</td>\n",
       "      <td>0.157326</td>\n",
       "      <td>7501</td>\n",
       "    </tr>\n",
       "    <tr>\n",
       "      <th>spiral-arm-count</th>\n",
       "      <td>0.354179</td>\n",
       "      <td>0.046660</td>\n",
       "      <td>0.015224</td>\n",
       "      <td>7501</td>\n",
       "    </tr>\n",
       "    <tr>\n",
       "      <th>merging</th>\n",
       "      <td>0.747810</td>\n",
       "      <td>0.536604</td>\n",
       "      <td>0.613393</td>\n",
       "      <td>49271</td>\n",
       "    </tr>\n",
       "  </tbody>\n",
       "</table>\n",
       "</div>"
      ],
      "text/plain": [
       "                    precision    recall        f1  support\n",
       "smooth-or-featured   0.558775  0.525933  0.537451    49917\n",
       "disk-edge-on         0.663747  0.554687  0.592729    15351\n",
       "has-spiral-arms      0.683657  0.552646  0.598381    11340\n",
       "bar                  0.414554  0.333951  0.325809    11340\n",
       "bulge-size           0.206103  0.037302  0.006379    11340\n",
       "how-rounded          0.521948  0.447168  0.415513    32641\n",
       "edge-on-bulge        0.059529  0.165383  0.086625     2467\n",
       "spiral-winding       0.663658  0.242234  0.157326     7501\n",
       "spiral-arm-count     0.354179  0.046660  0.015224     7501\n",
       "merging              0.747810  0.536604  0.613393    49271"
      ]
     },
     "execution_count": 13,
     "metadata": {},
     "output_type": "execute_result"
    }
   ],
   "source": [
    "report_df"
   ]
  },
  {
   "cell_type": "code",
   "execution_count": 14,
   "id": "90599a41",
   "metadata": {},
   "outputs": [
    {
     "data": {
      "text/html": [
       "<div>\n",
       "<style scoped>\n",
       "    .dataframe tbody tr th:only-of-type {\n",
       "        vertical-align: middle;\n",
       "    }\n",
       "\n",
       "    .dataframe tbody tr th {\n",
       "        vertical-align: top;\n",
       "    }\n",
       "\n",
       "    .dataframe thead th {\n",
       "        text-align: right;\n",
       "    }\n",
       "</style>\n",
       "<table border=\"1\" class=\"dataframe\">\n",
       "  <thead>\n",
       "    <tr style=\"text-align: right;\">\n",
       "      <th></th>\n",
       "      <th>total</th>\n",
       "      <th>avg</th>\n",
       "    </tr>\n",
       "  </thead>\n",
       "  <tbody>\n",
       "    <tr>\n",
       "      <th>smooth-or-featured</th>\n",
       "      <td>410.759517</td>\n",
       "      <td>410.759517</td>\n",
       "    </tr>\n",
       "    <tr>\n",
       "      <th>disk-edge-on</th>\n",
       "      <td>94.221868</td>\n",
       "      <td>94.221868</td>\n",
       "    </tr>\n",
       "    <tr>\n",
       "      <th>has-spiral-arms</th>\n",
       "      <td>70.217895</td>\n",
       "      <td>70.217895</td>\n",
       "    </tr>\n",
       "    <tr>\n",
       "      <th>bar</th>\n",
       "      <td>93.268349</td>\n",
       "      <td>93.268349</td>\n",
       "    </tr>\n",
       "    <tr>\n",
       "      <th>bulge-size</th>\n",
       "      <td>96.125883</td>\n",
       "      <td>96.125883</td>\n",
       "    </tr>\n",
       "    <tr>\n",
       "      <th>how-rounded</th>\n",
       "      <td>277.656479</td>\n",
       "      <td>277.656479</td>\n",
       "    </tr>\n",
       "    <tr>\n",
       "      <th>edge-on-bulge</th>\n",
       "      <td>22.965458</td>\n",
       "      <td>22.965458</td>\n",
       "    </tr>\n",
       "    <tr>\n",
       "      <th>spiral-winding</th>\n",
       "      <td>64.123813</td>\n",
       "      <td>64.123813</td>\n",
       "    </tr>\n",
       "    <tr>\n",
       "      <th>spiral-arm-count</th>\n",
       "      <td>81.989435</td>\n",
       "      <td>81.989435</td>\n",
       "    </tr>\n",
       "    <tr>\n",
       "      <th>merging</th>\n",
       "      <td>314.983061</td>\n",
       "      <td>314.983061</td>\n",
       "    </tr>\n",
       "  </tbody>\n",
       "</table>\n",
       "</div>"
      ],
      "text/plain": [
       "                         total         avg\n",
       "smooth-or-featured  410.759517  410.759517\n",
       "disk-edge-on         94.221868   94.221868\n",
       "has-spiral-arms      70.217895   70.217895\n",
       "bar                  93.268349   93.268349\n",
       "bulge-size           96.125883   96.125883\n",
       "how-rounded         277.656479  277.656479\n",
       "edge-on-bulge        22.965458   22.965458\n",
       "spiral-winding       64.123813   64.123813\n",
       "spiral-arm-count     81.989435   81.989435\n",
       "merging             314.983061  314.983061"
      ]
     },
     "execution_count": 14,
     "metadata": {},
     "output_type": "execute_result"
    }
   ],
   "source": [
    "time_df"
   ]
  },
  {
   "cell_type": "code",
   "execution_count": null,
   "id": "e244d419",
   "metadata": {},
   "outputs": [],
   "source": [
    "report_df.to_csv(\"../clustering/fuzzy_cluster_accuracy.csv\")\n",
    "time_df.to_csv(\"../clustering/fuzzy_time.csv\")"
   ]
  },
  {
   "cell_type": "code",
   "execution_count": null,
   "id": "fdd96eb8",
   "metadata": {},
   "outputs": [],
   "source": []
  }
 ],
 "metadata": {
  "kernelspec": {
   "display_name": "Python 3 (ipykernel)",
   "language": "python",
   "name": "python3"
  },
  "language_info": {
   "codemirror_mode": {
    "name": "ipython",
    "version": 3
   },
   "file_extension": ".py",
   "mimetype": "text/x-python",
   "name": "python",
   "nbconvert_exporter": "python",
   "pygments_lexer": "ipython3",
   "version": "3.9.16"
  }
 },
 "nbformat": 4,
 "nbformat_minor": 5
}
